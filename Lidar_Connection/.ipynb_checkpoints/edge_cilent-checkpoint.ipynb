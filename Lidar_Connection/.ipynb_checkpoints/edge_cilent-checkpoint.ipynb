{
 "cells": [
  {
   "cell_type": "code",
   "execution_count": 5,
   "id": "00fb104b",
   "metadata": {},
   "outputs": [],
   "source": [
    "import socket\n",
    "import sys\n",
    "import subprocess\n",
    "host='0.0.0.0'\n",
    "class EdgeClient():\n",
    "    def __init__(self, ip='127.0.0.1', port=6000, vehicle=None):\n",
    "        self.ip = ip\n",
    "        self.port = port\n",
    "        self.FRAME_SIZE = 16\n",
    "        self.send_frame_size = True\n",
    "        server_address = (ip, port)\n",
    "        # Create a TCP/IP socket\n",
    "        sock = socket.socket(socket.AF_INET, socket.SOCK_STREAM)\n",
    "        # Connect the socket to the port where the server is listening\n",
    "        server_address = (ip, port)\n",
    "        print(sys.stderr, 'connecting to %s port %s' % server_address)\n",
    "        sock.connect(server_address)\n",
    "        print(\"connected\")\n",
    "        data = b\"\"\n",
    "        while(data.decode() != \"exit\"):\n",
    "            sock.sendall(input().encode())\n",
    "            data = sock.recv(1024)\n",
    "        sock.close()\n",
    "        print('Received', repr(data))\n"
   ]
  },
  {
   "cell_type": "code",
   "execution_count": 6,
   "id": "fc749c16",
   "metadata": {},
   "outputs": [
    {
     "name": "stdout",
     "output_type": "stream",
     "text": [
      "<ipykernel.iostream.OutStream object at 0x000001AE0C7ECEB0> connecting to 127.0.0.1 port 6000\n",
      "connected\n",
      "exit\n",
      "Received b'exit'\n"
     ]
    }
   ],
   "source": [
    "c = EdgeClient()"
   ]
  },
  {
   "cell_type": "code",
   "execution_count": null,
   "id": "95cacd9e",
   "metadata": {},
   "outputs": [],
   "source": []
  },
  {
   "cell_type": "code",
   "execution_count": null,
   "id": "e058ba52",
   "metadata": {},
   "outputs": [],
   "source": []
  }
 ],
 "metadata": {
  "kernelspec": {
   "display_name": "Python 3",
   "language": "python",
   "name": "python3"
  },
  "language_info": {
   "codemirror_mode": {
    "name": "ipython",
    "version": 3
   },
   "file_extension": ".py",
   "mimetype": "text/x-python",
   "name": "python",
   "nbconvert_exporter": "python",
   "pygments_lexer": "ipython3",
   "version": "3.9.0"
  }
 },
 "nbformat": 4,
 "nbformat_minor": 5
}
