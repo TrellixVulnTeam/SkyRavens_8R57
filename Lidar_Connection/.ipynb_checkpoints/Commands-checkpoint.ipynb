{
 "cells": [
  {
   "cell_type": "code",
   "execution_count": 16,
   "id": "9e3264c6",
   "metadata": {},
   "outputs": [],
   "source": [
    "import time\n",
    "import subprocess \n",
    "from datetime import datetime\n",
    "import os\n",
    "import sys"
   ]
  },
  {
   "cell_type": "code",
   "execution_count": 17,
   "id": "39371dd5",
   "metadata": {},
   "outputs": [],
   "source": [
    "class livox_python:\n",
    "    def __init__(self, dir = sys.path[0], cp1 = None, cp2 = None, cp3 = None, cp4 = None):\n",
    "        print(dir)\n",
    "        self.dir = dir\n",
    "        self.cp1 = cp1\n",
    "        self.cp2 = cp2\n",
    "        self.cp3 = cp3\n",
    "    def connect_lidar(self):\n",
    "        print(dir)\n",
    "        self.cp1 = subprocess.Popen([\"roslaunch\", \"--wait\", \"livox_ros_driver\", \"livox_lidar.launch\"], cwd=self.dir)\n",
    "    def start_record(self):\n",
    "        print(dir)\n",
    "        self.cp2 = subprocess.Popen([\"roslaunch\", \"--wait\", \"livox_ros_driver\", \"livox_lidar.launch\"], cwd=self.dir)\n",
    "    def end_record(self):\n",
    "        try:\n",
    "            self.cp2.terminate()\n",
    "        except:\n",
    "            print(\"error\")\n",
    "            pass\n",
    "    def disconnect_lidar(self):\n",
    "        self.cp1.terminate()\n",
    "    def terminate_all(self):\n",
    "        try:\n",
    "            self.cp1.terminate()\n",
    "            self.cp2.terminate()\n",
    "            self.cp3.terminate()\n",
    "        except(AttributeError):\n",
    "            pass"
   ]
  },
  {
   "cell_type": "code",
   "execution_count": null,
   "id": "dc36d348",
   "metadata": {},
   "outputs": [],
   "source": []
  }
 ],
 "metadata": {
  "kernelspec": {
   "display_name": "Python 3",
   "language": "python",
   "name": "python3"
  },
  "language_info": {
   "codemirror_mode": {
    "name": "ipython",
    "version": 3
   },
   "file_extension": ".py",
   "mimetype": "text/x-python",
   "name": "python",
   "nbconvert_exporter": "python",
   "pygments_lexer": "ipython3",
   "version": "3.9.0"
  }
 },
 "nbformat": 4,
 "nbformat_minor": 5
}
